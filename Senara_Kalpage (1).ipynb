{
  "nbformat": 4,
  "nbformat_minor": 0,
  "metadata": {
    "colab": {
      "name": "Senara_Kalpage.ipynb",
      "provenance": [],
      "collapsed_sections": []
    },
    "kernelspec": {
      "name": "python3",
      "display_name": "Python 3"
    },
    "language_info": {
      "name": "python"
    }
  },
  "cells": [
    {
      "cell_type": "code",
      "metadata": {
        "colab": {
          "base_uri": "https://localhost:8080/"
        },
        "id": "8hoadG9goBIp",
        "outputId": "9d43b37a-abdf-4662-ca1e-0eb3194a1c45"
      },
      "source": [
        "import requests\n",
        "from datetime import datetime\n",
        "\n",
        "api_key = 'e6c98a0d16b8728abf0232ee712dc01f'\n",
        "location = input(\"Enter the City name: \")\n",
        "\n",
        "complete_api_link = \"https://api.openweathermap.org/data/2.5/weather?q=\"+location+\"&appid=\"+api_key\n",
        "api_link = requests.get(complete_api_link)\n",
        "api_data = api_link.json()\n",
        "\n",
        "temp_city = ((api_data['main']['temp']) - 273.15)\n",
        "weather_desc = api_data['weather'][0]['description']\n",
        "hmdt = api_data['main']['humidity']\n",
        "wind_spd = api_data['wind']['speed']\n",
        "date_time = datetime.now().strftime(\"%d %b %Y | %I:%M:%S %p\")\n",
        "\n",
        "print (\"---------------------------\")\n",
        "print (\"Weather Stats for - {}  ||  {}\".format(location.upper(), date_time))\n",
        "print (\"---------------------------\")\n",
        "\n",
        "print (\"Current temperature is: {:.2f} deg C\".format(temp_city))\n",
        "print (\"Current weather desc  :\",weather_desc)\n",
        "print (\"Current humidity      :\",hmdt, '%')\n",
        "print (\"Current wind speed    :\",wind_spd, 'kmph') \n",
        "\n",
        "#Create text file\n",
        "fileName = \"Weather_Details.txt\"\n",
        "accessmode = \"w\"\n",
        "myfile = open(fileName, accessmode)\n",
        "myfile.write(\"---------------------------\\n\")\n",
        "myfile.write(\"Weather Stats for - {}  ||  {}\\n\".format(location.upper(), date_time))\n",
        "myfile.write(\"---------------------------\\n\")\n",
        "\n",
        "myfile.write(\"Current temperature is: {:.2f} deg C\\n\".format(temp_city))\n",
        "myfile.write(\"Current weather desc  :\")\n",
        "myfile.write(weather_desc+\"\\n\")\n",
        "myfile.write(\"Current humidity      :\")\n",
        "myfile.write(str(hmdt) + ' %\\n')\n",
        "myfile.write(\"Current wind speed    :\")\n",
        "myfile.write(str(wind_spd) + ' kmph')\n",
        "myfile.close()\n"
      ],
      "execution_count": 5,
      "outputs": [
        {
          "output_type": "stream",
          "text": [
            "Enter the City name: Colombo\n",
            "---------------------------\n",
            "Weather Stats for - COLOMBO  ||  23 Jun 2021 | 06:49:27 AM\n",
            "---------------------------\n",
            "Current temperature is: 30.97 deg C\n",
            "Current weather desc  : few clouds\n",
            "Current humidity      : 72 %\n",
            "Current wind speed    : 4.96 kmph\n"
          ],
          "name": "stdout"
        }
      ]
    }
  ]
}